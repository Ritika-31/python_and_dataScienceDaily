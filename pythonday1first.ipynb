{
  "nbformat": 4,
  "nbformat_minor": 0,
  "metadata": {
    "colab": {
      "provenance": [],
      "authorship_tag": "ABX9TyNdYva9yImnrc5btbSRBXUb",
      "include_colab_link": true
    },
    "kernelspec": {
      "name": "python3",
      "display_name": "Python 3"
    },
    "language_info": {
      "name": "python"
    }
  },
  "cells": [
    {
      "cell_type": "markdown",
      "metadata": {
        "id": "view-in-github",
        "colab_type": "text"
      },
      "source": [
        "<a href=\"https://colab.research.google.com/github/Ritika-31/python_and_dataScienceDaily/blob/main/pythonday1first.ipynb\" target=\"_parent\"><img src=\"https://colab.research.google.com/assets/colab-badge.svg\" alt=\"Open In Colab\"/></a>"
      ]
    },
    {
      "cell_type": "markdown",
      "source": [
        "# python output"
      ],
      "metadata": {
        "id": "-Vxe8z79PVS5"
      }
    },
    {
      "cell_type": "code",
      "source": [],
      "metadata": {
        "id": "YZ0bYjllaAdD"
      },
      "execution_count": null,
      "outputs": []
    },
    {
      "cell_type": "code",
      "source": [
        "# Python is a case sensitive language\n",
        "print('hello')"
      ],
      "metadata": {
        "colab": {
          "base_uri": "https://localhost:8080/"
        },
        "id": "zdiYPbAxPd_v",
        "outputId": "ff7dad29-f0e8-4850-aa9d-eb84e2a99b67"
      },
      "execution_count": null,
      "outputs": [
        {
          "output_type": "stream",
          "name": "stdout",
          "text": [
            "hello\n"
          ]
        }
      ]
    },
    {
      "cell_type": "code",
      "source": [
        "print(7.7)"
      ],
      "metadata": {
        "colab": {
          "base_uri": "https://localhost:8080/"
        },
        "id": "tnXHGlmRPhSg",
        "outputId": "81e797b8-eff5-4c6c-8595-bc07a348c484"
      },
      "execution_count": null,
      "outputs": [
        {
          "output_type": "stream",
          "name": "stdout",
          "text": [
            "7.7\n"
          ]
        }
      ]
    },
    {
      "cell_type": "code",
      "source": [
        "print('hello',5,2.5,True)"
      ],
      "metadata": {
        "colab": {
          "base_uri": "https://localhost:8080/"
        },
        "id": "B5TGm0D4Potj",
        "outputId": "dafb850d-90c3-4b9d-fc22-bed161063f46"
      },
      "execution_count": null,
      "outputs": [
        {
          "output_type": "stream",
          "name": "stdout",
          "text": [
            "hello 5 2.5 True\n"
          ]
        }
      ]
    },
    {
      "cell_type": "code",
      "source": [
        "print('hello',5,2.5,True,sep='/')"
      ],
      "metadata": {
        "colab": {
          "base_uri": "https://localhost:8080/"
        },
        "id": "-FQ3owBdPtq5",
        "outputId": "69ce721d-35cd-454d-de86-5521b5dc84fe"
      },
      "execution_count": null,
      "outputs": [
        {
          "output_type": "stream",
          "name": "stdout",
          "text": [
            "hello/5/2.5/True\n"
          ]
        }
      ]
    },
    {
      "cell_type": "code",
      "source": [
        "print('hello',end='')\n",
        "print(' world')"
      ],
      "metadata": {
        "colab": {
          "base_uri": "https://localhost:8080/"
        },
        "id": "jeIDb4g5P0bC",
        "outputId": "57d82f5c-1f7b-4161-a2e0-8d14f851f371"
      },
      "execution_count": null,
      "outputs": [
        {
          "output_type": "stream",
          "name": "stdout",
          "text": [
            "hello world\n"
          ]
        }
      ]
    },
    {
      "cell_type": "markdown",
      "source": [
        "# Data Types"
      ],
      "metadata": {
        "id": "BndVIqcpQFE_"
      }
    },
    {
      "cell_type": "code",
      "source": [
        "print(7.3)\n",
        "print(1e309)"
      ],
      "metadata": {
        "colab": {
          "base_uri": "https://localhost:8080/"
        },
        "id": "CsSAiVU6QJEF",
        "outputId": "a9d94911-ab74-4658-ed7b-80b6a1f739d5"
      },
      "execution_count": null,
      "outputs": [
        {
          "output_type": "stream",
          "name": "stdout",
          "text": [
            "7.3\n",
            "inf\n"
          ]
        }
      ]
    },
    {
      "cell_type": "code",
      "source": [
        "# complex\n",
        "print(5+6j)"
      ],
      "metadata": {
        "colab": {
          "base_uri": "https://localhost:8080/"
        },
        "id": "YRzecaWBQZd9",
        "outputId": "459fd991-0f12-45ff-c2e3-be913f27d34a"
      },
      "execution_count": null,
      "outputs": [
        {
          "output_type": "stream",
          "name": "stdout",
          "text": [
            "(5+6j)\n"
          ]
        }
      ]
    },
    {
      "cell_type": "code",
      "source": [
        "#list\n",
        "print([1,2,3,4,5])"
      ],
      "metadata": {
        "colab": {
          "base_uri": "https://localhost:8080/"
        },
        "id": "3bV3xQBmQh_R",
        "outputId": "deafb12a-7eec-44df-e5ab-967e4de7d836"
      },
      "execution_count": null,
      "outputs": [
        {
          "output_type": "stream",
          "name": "stdout",
          "text": [
            "[1, 2, 3, 4, 5]\n"
          ]
        }
      ]
    },
    {
      "cell_type": "code",
      "source": [
        "# tuple\n",
        "print((1,2,3,4,5))"
      ],
      "metadata": {
        "colab": {
          "base_uri": "https://localhost:8080/"
        },
        "id": "jsPcAJPzQmEu",
        "outputId": "f7d1afaa-aa62-46bf-ee7f-706f366a3668"
      },
      "execution_count": null,
      "outputs": [
        {
          "output_type": "stream",
          "name": "stdout",
          "text": [
            "(1, 2, 3, 4, 5)\n"
          ]
        }
      ]
    },
    {
      "cell_type": "code",
      "source": [
        "# sets\n",
        "print({1,2,3,4,5})"
      ],
      "metadata": {
        "colab": {
          "base_uri": "https://localhost:8080/"
        },
        "id": "rnFN7f2MQmRl",
        "outputId": "2e7f254c-7258-440c-f275-a982cd49555a"
      },
      "execution_count": null,
      "outputs": [
        {
          "output_type": "stream",
          "name": "stdout",
          "text": [
            "{1, 2, 3, 4, 5}\n"
          ]
        }
      ]
    },
    {
      "cell_type": "code",
      "source": [
        "# dictionary\n",
        "print({'name':'Ritika','gender':'female','age':20})"
      ],
      "metadata": {
        "colab": {
          "base_uri": "https://localhost:8080/"
        },
        "id": "k-V2CvOrRVlK",
        "outputId": "23b058a4-9031-4b6a-e729-7f83729e77a6"
      },
      "execution_count": null,
      "outputs": [
        {
          "output_type": "stream",
          "name": "stdout",
          "text": [
            "{'name': 'Ritika', 'gender': 'female', 'age': 20}\n"
          ]
        }
      ]
    },
    {
      "cell_type": "code",
      "source": [
        "type({1,2,3,4,5})"
      ],
      "metadata": {
        "colab": {
          "base_uri": "https://localhost:8080/"
        },
        "id": "BSIauT4vRkHG",
        "outputId": "7811bfc5-7758-4749-8653-1c08996ce8e1"
      },
      "execution_count": null,
      "outputs": [
        {
          "output_type": "execute_result",
          "data": {
            "text/plain": [
              "set"
            ]
          },
          "metadata": {},
          "execution_count": 21
        }
      ]
    },
    {
      "cell_type": "markdown",
      "source": [
        "# variables"
      ],
      "metadata": {
        "id": "CJmuaQZWRq3P"
      }
    },
    {
      "cell_type": "code",
      "source": [
        "# Static Vs Dynamic Typing\n",
        "# Static Vs Dynamic Binding\n",
        "# stylish declaration techniques"
      ],
      "metadata": {
        "id": "uZ86CgPURo-o"
      },
      "execution_count": null,
      "outputs": []
    },
    {
      "cell_type": "code",
      "source": [
        "#dynamic typing\n",
        "a=5\n",
        "# static typing\n",
        "int b=5"
      ],
      "metadata": {
        "id": "vDcTAH14SPZH"
      },
      "execution_count": null,
      "outputs": []
    },
    {
      "cell_type": "code",
      "source": [
        "# dynamic binding\n",
        "a=5\n",
        "print(a)\n",
        "a='ritika'\n",
        "print(a)\n",
        "\n",
        "# static binding\n",
        "int a =5"
      ],
      "metadata": {
        "colab": {
          "base_uri": "https://localhost:8080/"
        },
        "id": "ejWs3R8_SfNn",
        "outputId": "bf973885-df31-47ea-8cc7-d8b6ae4d430c"
      },
      "execution_count": null,
      "outputs": [
        {
          "output_type": "stream",
          "name": "stdout",
          "text": [
            "5\n",
            "ritika\n"
          ]
        }
      ]
    },
    {
      "cell_type": "code",
      "source": [
        "a=1\n",
        "b=2\n",
        "c=3\n",
        "print(a,b,c)"
      ],
      "metadata": {
        "colab": {
          "base_uri": "https://localhost:8080/"
        },
        "id": "7DvDOGVES0Eu",
        "outputId": "e555d517-abb9-4bb5-92af-dce106f43133"
      },
      "execution_count": null,
      "outputs": [
        {
          "output_type": "stream",
          "name": "stdout",
          "text": [
            "1 2 3\n"
          ]
        }
      ]
    },
    {
      "cell_type": "code",
      "source": [
        "a,b,c=5,6,7\n",
        "print(a,b,c)"
      ],
      "metadata": {
        "colab": {
          "base_uri": "https://localhost:8080/"
        },
        "id": "4JwgXuQJTRI9",
        "outputId": "d4345182-5e77-4fb8-9216-c8231a6058a9"
      },
      "execution_count": null,
      "outputs": [
        {
          "output_type": "stream",
          "name": "stdout",
          "text": [
            "5 6 7\n"
          ]
        }
      ]
    },
    {
      "cell_type": "markdown",
      "source": [
        "# Keywords & Identifiers"
      ],
      "metadata": {
        "id": "TWs7mNitTbsd"
      }
    },
    {
      "cell_type": "code",
      "source": [
        "# Identifiers\n",
        "# You can't start with a digit\n",
        "name1 = 'Nitish'\n",
        "print(name1)\n",
        "# You can use special chars -> _\n",
        "_ = 'ntiish'\n",
        "print(_)\n",
        "# identiers can not be keyword"
      ],
      "metadata": {
        "colab": {
          "base_uri": "https://localhost:8080/"
        },
        "id": "AkT2ncZ1TWvR",
        "outputId": "65bc76c9-b252-414c-80b7-1f464b3a1dc0"
      },
      "execution_count": null,
      "outputs": [
        {
          "output_type": "stream",
          "name": "stdout",
          "text": [
            "Nitish\n",
            "ntiish\n"
          ]
        }
      ]
    },
    {
      "cell_type": "markdown",
      "source": [
        "# user input"
      ],
      "metadata": {
        "id": "S3BEAawsT-BF"
      }
    },
    {
      "cell_type": "code",
      "source": [
        "input('enter email')"
      ],
      "metadata": {
        "colab": {
          "base_uri": "https://localhost:8080/",
          "height": 53
        },
        "id": "8P80g4I9Twk8",
        "outputId": "6d416cd5-3bc1-47bb-c292-a9ac51c26b40"
      },
      "execution_count": null,
      "outputs": [
        {
          "name": "stdout",
          "output_type": "stream",
          "text": [
            "enter emailsathuaritika45@gmail.com\n"
          ]
        },
        {
          "output_type": "execute_result",
          "data": {
            "text/plain": [
              "'sathuaritika45@gmail.com'"
            ],
            "application/vnd.google.colaboratory.intrinsic+json": {
              "type": "string"
            }
          },
          "metadata": {},
          "execution_count": 30
        }
      ]
    },
    {
      "cell_type": "code",
      "source": [
        "# take input from users and store them in a variable\n",
        "fnum = int(input('enter first number'))\n",
        "snum = int(input('enter second number'))\n",
        "print(type(fnum),type(snum))\n",
        "# add the 2 variables\n",
        "result = fnum + snum\n",
        "# print the result\n",
        "print(result)\n",
        "print(type(fnum))"
      ],
      "metadata": {
        "colab": {
          "base_uri": "https://localhost:8080/"
        },
        "id": "QPoUml0YUD6B",
        "outputId": "9b0028d8-f626-48cc-87ea-6bf234769e69"
      },
      "execution_count": null,
      "outputs": [
        {
          "output_type": "stream",
          "name": "stdout",
          "text": [
            "enter first number6\n",
            "enter second number8\n",
            "<class 'int'> <class 'int'>\n",
            "14\n",
            "<class 'int'>\n"
          ]
        }
      ]
    },
    {
      "cell_type": "markdown",
      "source": [
        "# Type Conversion"
      ],
      "metadata": {
        "id": "sgfLa0IhUa01"
      }
    },
    {
      "cell_type": "code",
      "source": [
        "# Implicit Vs Explicit\n",
        "print(5+5.6)\n",
        "print(type(5),type(5.6))\n",
        "\n",
        "print(4,'4')"
      ],
      "metadata": {
        "colab": {
          "base_uri": "https://localhost:8080/"
        },
        "id": "5v-mwLhIUdZg",
        "outputId": "a39b3342-1779-4188-a9dc-c11c9a3645b2"
      },
      "execution_count": null,
      "outputs": [
        {
          "output_type": "stream",
          "name": "stdout",
          "text": [
            "10.6\n",
            "<class 'int'> <class 'float'>\n",
            "4 4\n"
          ]
        }
      ]
    },
    {
      "cell_type": "code",
      "source": [
        "# Implicit Vs Explicit\n",
        "print(5+5.6)\n",
        "print(type(5),type(5.6))\n",
        "\n",
        "print(4+'4')"
      ],
      "metadata": {
        "colab": {
          "base_uri": "https://localhost:8080/",
          "height": 211
        },
        "id": "H64Mx0ixUnnN",
        "outputId": "19ba9c97-7d8b-43e8-cedf-5c86613874cd"
      },
      "execution_count": null,
      "outputs": [
        {
          "output_type": "stream",
          "name": "stdout",
          "text": [
            "10.6\n",
            "<class 'int'> <class 'float'>\n"
          ]
        },
        {
          "output_type": "error",
          "ename": "TypeError",
          "evalue": "unsupported operand type(s) for +: 'int' and 'str'",
          "traceback": [
            "\u001b[0;31m---------------------------------------------------------------------------\u001b[0m",
            "\u001b[0;31mTypeError\u001b[0m                                 Traceback (most recent call last)",
            "\u001b[0;32m<ipython-input-37-bdc0507c8fc3>\u001b[0m in \u001b[0;36m<cell line: 5>\u001b[0;34m()\u001b[0m\n\u001b[1;32m      3\u001b[0m \u001b[0mprint\u001b[0m\u001b[0;34m(\u001b[0m\u001b[0mtype\u001b[0m\u001b[0;34m(\u001b[0m\u001b[0;36m5\u001b[0m\u001b[0;34m)\u001b[0m\u001b[0;34m,\u001b[0m\u001b[0mtype\u001b[0m\u001b[0;34m(\u001b[0m\u001b[0;36m5.6\u001b[0m\u001b[0;34m)\u001b[0m\u001b[0;34m)\u001b[0m\u001b[0;34m\u001b[0m\u001b[0;34m\u001b[0m\u001b[0m\n\u001b[1;32m      4\u001b[0m \u001b[0;34m\u001b[0m\u001b[0m\n\u001b[0;32m----> 5\u001b[0;31m \u001b[0mprint\u001b[0m\u001b[0;34m(\u001b[0m\u001b[0;36m4\u001b[0m\u001b[0;34m+\u001b[0m\u001b[0;34m'4'\u001b[0m\u001b[0;34m)\u001b[0m\u001b[0;34m\u001b[0m\u001b[0;34m\u001b[0m\u001b[0m\n\u001b[0m",
            "\u001b[0;31mTypeError\u001b[0m: unsupported operand type(s) for +: 'int' and 'str'"
          ]
        }
      ]
    },
    {
      "cell_type": "code",
      "source": [
        "# Explicit\n",
        "# str -> int\n",
        "# int(4+5j)\n",
        "\n",
        "# int to str\n",
        "print(str(5))\n",
        "\n",
        "# float\n",
        "float(4)"
      ],
      "metadata": {
        "colab": {
          "base_uri": "https://localhost:8080/"
        },
        "id": "-lE2-9rFUxUx",
        "outputId": "ddd71bd1-4f6f-43a5-d60b-e426249ee795"
      },
      "execution_count": null,
      "outputs": [
        {
          "output_type": "stream",
          "name": "stdout",
          "text": [
            "5\n"
          ]
        },
        {
          "output_type": "execute_result",
          "data": {
            "text/plain": [
              "4.0"
            ]
          },
          "metadata": {},
          "execution_count": 40
        }
      ]
    },
    {
      "cell_type": "markdown",
      "source": [
        "# literals"
      ],
      "metadata": {
        "id": "1Ys8fQT2dy1e"
      }
    },
    {
      "cell_type": "code",
      "source": [
        "a = 0b1010 #Binary Literals\n",
        "b = 100 #Decimal Literal\n",
        "c = 0o310 #Octal Literal\n",
        "d = 0x12c #Hexadecimal Literal\n",
        "\n",
        "#Float Literal\n",
        "float_1 = 10.5\n",
        "float_2 = 1.5e2 # 1.5 * 10^2\n",
        "float_3 = 1.5e-3 # 1.5 * 10^-3\n",
        "\n",
        "#Complex Literal\n",
        "x = 3.14j\n",
        "\n",
        "print(a, b, c, d)\n",
        "print(float_1, float_2,float_3)\n",
        "print(x, x.imag, x.real)"
      ],
      "metadata": {
        "colab": {
          "base_uri": "https://localhost:8080/"
        },
        "id": "WwIX8LBhU4w6",
        "outputId": "fd9c1cea-732e-47fb-df60-ebda8ebb5737"
      },
      "execution_count": null,
      "outputs": [
        {
          "output_type": "stream",
          "name": "stdout",
          "text": [
            "10 100 200 300\n",
            "10.5 150.0 0.0015\n",
            "3.14j 3.14 0.0\n"
          ]
        }
      ]
    },
    {
      "cell_type": "code",
      "source": [
        "string = 'This is Python'\n",
        "strings = \"This is Python\"\n",
        "char = \"C\"\n",
        "multiline_str = \"\"\"This is a multiline string with more than one line code.\"\"\"\n",
        "unicode = u\"\\U0001f600\\U0001F606\\U0001F923\"\n",
        "raw_str = r\"raw \\n string\"\n",
        "\n",
        "print(string)\n",
        "print(strings)\n",
        "print(char)\n",
        "print(multiline_str)\n",
        "print(unicode)\n",
        "print(raw_str)"
      ],
      "metadata": {
        "colab": {
          "base_uri": "https://localhost:8080/"
        },
        "id": "aoxdI3VKd-Bn",
        "outputId": "74f55a42-e5b6-44a0-ab98-5eeaa3fc8f37"
      },
      "execution_count": null,
      "outputs": [
        {
          "output_type": "stream",
          "name": "stdout",
          "text": [
            "This is Python\n",
            "This is Python\n",
            "C\n",
            "This is a multiline string with more than one line code.\n",
            "😀😆🤣\n",
            "raw \\n string\n"
          ]
        }
      ]
    },
    {
      "cell_type": "code",
      "source": [
        "unicode=u\"\\U0001F600\"\n",
        "unicode"
      ],
      "metadata": {
        "colab": {
          "base_uri": "https://localhost:8080/",
          "height": 36
        },
        "id": "gfai01Hyeq31",
        "outputId": "575f3d38-324e-432e-cd2e-d34d0b09f406"
      },
      "execution_count": null,
      "outputs": [
        {
          "output_type": "execute_result",
          "data": {
            "text/plain": [
              "'😀'"
            ],
            "application/vnd.google.colaboratory.intrinsic+json": {
              "type": "string"
            }
          },
          "metadata": {},
          "execution_count": 44
        }
      ]
    },
    {
      "cell_type": "code",
      "source": [
        "a=True+4\n",
        "b=False+6\n",
        "print(a,b)"
      ],
      "metadata": {
        "colab": {
          "base_uri": "https://localhost:8080/"
        },
        "id": "6ZorZa3RfPsr",
        "outputId": "f5b9eabb-8316-41e2-fefb-da25233c42bc"
      },
      "execution_count": null,
      "outputs": [
        {
          "output_type": "stream",
          "name": "stdout",
          "text": [
            "5 6\n"
          ]
        }
      ]
    },
    {
      "cell_type": "code",
      "source": [
        "k=None\n",
        "print(k)"
      ],
      "metadata": {
        "colab": {
          "base_uri": "https://localhost:8080/"
        },
        "id": "u79zeZkHfbtz",
        "outputId": "854b896d-c91f-4d08-a0df-905459e66b5f"
      },
      "execution_count": null,
      "outputs": [
        {
          "output_type": "stream",
          "name": "stdout",
          "text": [
            "None\n"
          ]
        }
      ]
    },
    {
      "cell_type": "code",
      "source": [],
      "metadata": {
        "id": "8RK5GuVNfjCg"
      },
      "execution_count": null,
      "outputs": []
    }
  ]
}